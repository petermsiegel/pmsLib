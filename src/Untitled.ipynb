{
 "cells": [
  {
   "cell_type": "code",
   "execution_count": 1,
   "id": "normal-stream",
   "metadata": {},
   "outputs": [
    {
     "name": "stderr",
     "output_type": "stream",
     "text": [
      "VALUE ERROR: Undefined name: ∆FIX\n",
      "      ∆FIX'123'\n",
      "      ∧\n"
     ]
    }
   ],
   "source": [
    "∆FIX '123'"
   ]
  },
  {
   "cell_type": "code",
   "execution_count": 2,
   "id": "reported-field",
   "metadata": {},
   "outputs": [
    {
     "data": {
      "text/html": [
       "<span style=\"white-space:pre; font-family: monospace\">* Command Execution Failed: cannot find the file \"require.dyalog\" in any of the SALT USER folders\n",
       "</span>"
      ]
     },
     "execution_count": 2,
     "metadata": {},
     "output_type": "execute_result"
    }
   ],
   "source": [
    "]require ∆FIX"
   ]
  },
  {
   "cell_type": "code",
   "execution_count": 3,
   "id": "first-blink",
   "metadata": {},
   "outputs": [
    {
     "data": {
      "text/html": [
       "<span style=\"white-space:pre; font-family: monospace\">∆REQ\n",
       "</span>"
      ]
     },
     "execution_count": 3,
     "metadata": {},
     "output_type": "execute_result"
    }
   ],
   "source": [
    "]load require.dyalog"
   ]
  },
  {
   "cell_type": "code",
   "execution_count": 6,
   "id": "formal-fault",
   "metadata": {},
   "outputs": [
    {
     "data": {
      "text/html": [
       "<span style=\"white-space:pre; font-family: monospace\"> ⎕SE.⍙⍙.⍙ \n",
       "</span>"
      ]
     },
     "execution_count": 6,
     "metadata": {},
     "output_type": "execute_result"
    }
   ],
   "source": [
    "⎕←∆REQ '∆FIX'"
   ]
  },
  {
   "cell_type": "code",
   "execution_count": 8,
   "id": "proprietary-typing",
   "metadata": {},
   "outputs": [
    {
     "data": {
      "text/html": [
       "<span style=\"white-space:pre; font-family: monospace\">⎕←1 + 2               \n",
       "⍝↑::STATIC three←1 + 2\n",
       "three←3               \n",
       "⎕←three               \n",
       "</span>"
      ]
     },
     "execution_count": 8,
     "metadata": {},
     "output_type": "execute_result"
    }
   ],
   "source": [
    "↑'n' ∆FIX '⎕←1 +...' '2'  '::STATIC three←1 +..' '2' '⎕←three'\n"
   ]
  },
  {
   "cell_type": "code",
   "execution_count": null,
   "id": "august-application",
   "metadata": {},
   "outputs": [],
   "source": []
  }
 ],
 "metadata": {
  "kernelspec": {
   "display_name": "Dyalog APL",
   "language": "apl",
   "name": "dyalog-kernel"
  },
  "language_info": {
   "file_extension": ".apl",
   "mimetype": "text/apl",
   "name": "APL"
  }
 },
 "nbformat": 4,
 "nbformat_minor": 5
}
